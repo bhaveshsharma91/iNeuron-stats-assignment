{
 "cells": [
  {
   "cell_type": "code",
   "execution_count": 121,
   "metadata": {},
   "outputs": [],
   "source": [
    "import numpy as np\n",
    "from scipy import stats\n",
    "import matplotlib.pyplot as plt\n",
    "import seaborn as sns\n",
    "from scipy.integrate import quad"
   ]
  },
  {
   "cell_type": "code",
   "execution_count": 2,
   "metadata": {},
   "outputs": [
    {
     "name": "stdout",
     "output_type": "stream",
     "text": [
      "mean:  6.85\n",
      "median:  7.0\n",
      "mode:  ModeResult(mode=array([7]), count=array([5]))\n",
      "std deviation:  1.5898113095584647\n"
     ]
    }
   ],
   "source": [
    "# find mean, median, mode and standard deviation of the following for 1 and 2\n",
    "# 1.\n",
    "\n",
    "\n",
    "l = [6, 7, 5, 7, 7, 8, 7, 6, 9, 7, 4, 10, 6, 8, 8, 9, 5, 6, 4, 8]\n",
    "\n",
    "print(\"mean: \", np.mean(l))\n",
    "print(\"median: \",np.median(l))\n",
    "print(\"mode: \",stats.mode(l))\n",
    "print(\"std deviation: \", np.std(l))"
   ]
  },
  {
   "cell_type": "code",
   "execution_count": 3,
   "metadata": {},
   "outputs": [
    {
     "name": "stdout",
     "output_type": "stream",
     "text": [
      "mean:  107.51428571428572\n",
      "median:  100.0\n",
      "mode:  ModeResult(mode=array([75]), count=array([4]))\n",
      "std deviation:  38.77287080168403\n"
     ]
    }
   ],
   "source": [
    "#2.\n",
    "\n",
    "calls = [28, 122, 217, 130, 120, 86, 80, 90, 140, 120, 70,\n",
    "         40, 145, 113, 90, 68, 174, 194, 170, 100, 75, 104, 97,\n",
    "         75, 123, 100, 75, 104, 97, 75, 123, 100, 89, 120, 109]\n",
    "\n",
    "print(\"mean: \", np.mean(calls))\n",
    "print(\"median: \",np.median(calls))\n",
    "print(\"mode: \",stats.mode(calls))\n",
    "print(\"std deviation: \", np.std(calls))"
   ]
  },
  {
   "cell_type": "code",
   "execution_count": 4,
   "metadata": {},
   "outputs": [
    {
     "name": "stdout",
     "output_type": "stream",
     "text": [
      "mean is: 2.15\n",
      "variance is:  1.2275\n"
     ]
    }
   ],
   "source": [
    "# 3. find the mean and variance\n",
    "\n",
    "x = np.array([0, 1, 2, 3, 4, 5 ])\n",
    "y = np.array([0.09, 0.15, 0.40, 0.25, 0.10, 0.01 ]) # f(x)\n",
    "\n",
    "XcrossY = x*y\n",
    "mean = XcrossY.sum()\n",
    "print(\"mean is:\",mean)\n",
    "\n",
    "XminusMean = (x-mean)\n",
    "squared = np.square(XminusMean)\n",
    "var = squared*y\n",
    "var.sum()\n",
    "print(\"variance is: \",var.sum())"
   ]
  },
  {
   "cell_type": "code",
   "execution_count": 5,
   "metadata": {
    "scrolled": true
   },
   "outputs": [
    {
     "name": "stdout",
     "output_type": "stream",
     "text": [
      "The propotion is of parts above 12.6mm:  0.13533528323661398\n"
     ]
    }
   ],
   "source": [
    "# 4. we need to find the pdf for values above 12.6\n",
    "\n",
    "# using the given formula we can take its integral from 12.6 to infinity\n",
    "\n",
    "\n",
    "from scipy import integrate\n",
    "a=20\n",
    "b=12.5\n",
    "\n",
    "def integrand(d,a,b):\n",
    "    return a*np.exp(-a*(d-b))\n",
    "\n",
    "result = integrate.quad(integrand, 12.6,np.inf, args=(a,b))[0]\n",
    "print(\"The propotion is of parts above 12.6mm: \",result)"
   ]
  },
  {
   "cell_type": "raw",
   "metadata": {},
   "source": [
    "The the pdf for the variables below 12.5 is not given so we take that it is zero, so at 11mm the cdf which is supposed to be the sum of pdf's will be zero.\n",
    "\n",
    "Conclusion: about 13.5% of the parts are scrapped so it means the only 86.5% of the parts made are useful\n"
   ]
  },
  {
   "cell_type": "code",
   "execution_count": 6,
   "metadata": {},
   "outputs": [
    {
     "name": "stdout",
     "output_type": "stream",
     "text": [
      "probability of 2 light bulbs being faulty:  0.3241349999999999\n",
      "mean:  1.7999999999999998\n",
      "std deviation:  1.2599999999999998\n"
     ]
    }
   ],
   "source": [
    "# 5. find the probability of 2 light bulbs out of 4 being faulty\n",
    "# from itertools import combinations\n",
    "\n",
    "\n",
    "def nCr(n, x): \n",
    "  \n",
    "    return (fact(n) / (fact(x)* fact(n - x)))  \n",
    "\n",
    "def fact(n): \n",
    "    res = 1\n",
    "    for i in range(2, n+1): \n",
    "        res = res * i \n",
    "    return res \n",
    "  \n",
    "n = 6\n",
    "x = 2\n",
    "p=0.3\n",
    "print(\"probability of 2 light bulbs being faulty: \",nCr(n, x)*(p)**x*(1-p)**(n-x)) \n",
    "print(\"mean: \", n*p)\n",
    "print(\"std deviation: \", n*p*(1-p))"
   ]
  },
  {
   "cell_type": "code",
   "execution_count": 31,
   "metadata": {},
   "outputs": [
    {
     "name": "stdout",
     "output_type": "stream",
     "text": [
      "The probability of gaurav solving 1 questions is: 0.014872513059998144\n",
      "The probability of gaurav solving 2 questions is: 0.04461753917999444\n",
      "The probability of gaurav solving 3 questions is: 0.08923507835998894\n",
      "The probability of gaurav solving 4 questions is: 0.13385261753998332\n",
      "The probability of gaurav solving 5 questions is: 0.16062314104797995\n",
      "The probability of gaurav solving 6 questions is: 0.1606231410479801\n",
      "\n",
      "The probability of barkha solving 1 questions is: 0.09836540081025322\n",
      "The probability of barkha solving 2 questions is: 0.17705772145845575\n",
      "The probability of barkha solving 3 questions is: 0.21246926575014694\n",
      "The probability of barkha solving 4 questions is: 0.19122233917513215\n",
      "The probability of barkha solving 5 questions is: 0.13768008420609515\n",
      "The probability of barkha solving 6 questions is: 0.0826080505236571\n",
      "\n"
     ]
    },
    {
     "data": {
      "image/png": "[encoded data removed]",
      "text/plain": [
       "<Figure size 432x288 with 1 Axes>"
      ]
     },
     "metadata": {
      "needs_background": "light"
     },
     "output_type": "display_data"
    }
   ],
   "source": [
    "# 6. gaurav tries 8 questions per day with 75% correction rate\n",
    "#    barkha tries 12 questions per day with a 45% correction rate\n",
    "#    find the probability of them solving 5,4,6 questions correctly and show the factors affecting this with a pictorial graph\n",
    "\n",
    "# lets use poission distribution for this\n",
    "\n",
    "# gaurav is able to solve 6 questions correctly\n",
    "# barkha is able to solve 5.4 question correctly\n",
    "\n",
    "g_mean = 8*0.75\n",
    "b_mean = 8*0.45\n",
    "mean = g_mean\n",
    "for j in [\"gaurav\", \"barkha\"]:\n",
    "    for i in [1,2,3,4,5,6]:\n",
    "        print(\"The probability of {0} solving {1} questions is: {2}\".format(j,i,stats.poisson.pmf(i, mean)))\n",
    "    print()\n",
    "    mean = b_mean\n",
    "    \n",
    "# The 2 factors affecting their performance are the number of question they try to solve and the number of questions they are \n",
    "# able to correctly solve\n",
    "\n",
    "# both are directly proportional to the number of questions they can solve\n",
    "\n",
    "# lets see how their probability to answer 8 questions varies when we increase their attempts and success rate\n",
    "x = []\n",
    "y = []\n",
    "for i in range(8,20): # no of questions attempted\n",
    "    x.append(stats.poisson.pmf(8, i))\n",
    "    \n",
    "for i in range(8,20): # no of questions solved correctly out of 20\n",
    "    y.append(stats.poisson.pmf(i,20))\n",
    "    \n",
    "sns.distplot(x);\n"
   ]
  },
  {
   "cell_type": "code",
   "execution_count": 32,
   "metadata": {},
   "outputs": [
    {
     "data": {
      "image/png": "[encoded data removed]",
      "text/plain": [
       "<Figure size 432x288 with 1 Axes>"
      ]
     },
     "metadata": {
      "needs_background": "light"
     },
     "output_type": "display_data"
    }
   ],
   "source": [
    "sns.distplot(y);"
   ]
  },
  {
   "cell_type": "code",
   "execution_count": 59,
   "metadata": {},
   "outputs": [
    {
     "name": "stdout",
     "output_type": "stream",
     "text": [
      "The answer is \n",
      " for 5 customers: 0.17474768364388296 \n",
      " for not more then 3 customers: 0.29422991649656405 \n",
      " for more then 3 customers: 0.705770083503436\n"
     ]
    },
    {
     "data": {
      "image/png": "[encoded data removed]",
      "text/plain": [
       "<Figure size 432x288 with 1 Axes>"
      ]
     },
     "metadata": {
      "needs_background": "light"
     },
     "output_type": "display_data"
    }
   ],
   "source": [
    "# 7. customers arrive at the rate of 72 per hour...\n",
    "# probability of 5, not more then 3, more then 3 customers arriving\n",
    "\n",
    "# 1 hour has 60 minutes...\n",
    "# 72/60*4 is mean customers in 4 minutes\n",
    "\n",
    "mean = 72/60*4 # in 4 min\n",
    "\n",
    "# 5\n",
    "ans1 = stats.poisson.pmf(5, mean)\n",
    "\n",
    "ans2 = 0\n",
    "for i in [0,1,2,3]:\n",
    "    ans2 += stats.poisson.pmf(i,mean)\n",
    "    \n",
    "ans3 = 1-ans2\n",
    "\n",
    "print(\"\"\"The answer is \\n for 5 customers: {0} \\n for not more then 3 customers: {1} \n",
    " for more then 3 customers: {2}\"\"\".format(ans1,ans2,ans3))\n",
    "\n",
    "# plot of poissons distibution\n",
    "x = np.arange(0,12,1)\n",
    "y = stats.poisson.pmf(x, mu=mean)\n",
    "plt.plot(x,y)\n",
    "plt.show()"
   ]
  },
  {
   "cell_type": "code",
   "execution_count": 71,
   "metadata": {},
   "outputs": [
    {
     "name": "stdout",
     "output_type": "stream",
     "text": [
      "For 455 words the probability of making only 2 errors is: 2.51536143880336e-13\n"
     ]
    },
    {
     "data": {
      "image/png": "[encoded data removed]",
      "text/plain": [
       "<Figure size 432x288 with 1 Axes>"
      ]
     },
     "metadata": {
      "needs_background": "light"
     },
     "output_type": "display_data"
    },
    {
     "data": {
      "image/png": "[encoded data removed]",
      "text/plain": [
       "<Figure size 432x288 with 1 Axes>"
      ]
     },
     "metadata": {
      "needs_background": "light"
     },
     "output_type": "display_data"
    },
    {
     "data": {
      "image/png": "[encoded data removed]",
      "text/plain": [
       "<Figure size 432x288 with 1 Axes>"
      ]
     },
     "metadata": {
      "needs_background": "light"
     },
     "output_type": "display_data"
    }
   ],
   "source": [
    "# 8. a guy writes 77 words with 6 errors on avg\n",
    "# probability of exactly 2 errors in 455 words?\n",
    "\n",
    "#for 455 words\n",
    "mean = 455*6/77\n",
    "\n",
    "ans1 = stats.poisson.pmf(2,mean) # 2 errors\n",
    "print(\"For 455 words the probability of making only 2 errors is: \" + str(ans1))\n",
    "\n",
    "x = np.arange(0,70,1)\n",
    "y = stats.poisson.pmf(x, mu=mean)\n",
    "plt.plot(x,y)\n",
    "plt.title(\"For 455 words\")\n",
    "plt.show()\n",
    "\n",
    "# the probability of making a larger number of errors will increase as the number of words increase\n",
    "\n",
    "# mean errors will increase as the number of words increase\n",
    "\n",
    "# the pmf for any particular number of errors will decrease as we increase the number of words...\n",
    "\n",
    "mean = 1000*6/77\n",
    "x = np.arange(0,180,1)\n",
    "y = stats.poisson.pmf(x, mu=mean)\n",
    "plt.plot(x,y)\n",
    "plt.title(\"For 1000 words\")\n",
    "plt.show()\n",
    "\n",
    "mean = 255*6/77\n",
    "x = np.arange(0,60,1)\n",
    "y = stats.poisson.pmf(x, mu=mean)\n",
    "plt.plot(x,y)\n",
    "plt.title(\"For 255 words\")\n",
    "plt.show()"
   ]
  },
  {
   "cell_type": "code",
   "execution_count": 100,
   "metadata": {},
   "outputs": [
    {
     "name": "stdout",
     "output_type": "stream",
     "text": [
      "percentage of parts scrapped: 13.53%\n"
     ]
    },
    {
     "data": {
      "text/plain": [
       "0.8646647167633863"
      ]
     },
     "execution_count": 100,
     "metadata": {},
     "output_type": "execute_result"
    }
   ],
   "source": [
    "# 9. a 12.5mm hole is driled in a metal sheet, there are errors which cause holes to be bigger in size sometimes..\n",
    "# if holes above 12.6mm are scrapped what is the percentage of those scrapped metal sheets\n",
    "# and cdf at 11mm\n",
    "# and conclusion of it all\n",
    "# pdf for size of holes is  f(d) = 20e−20(d−12.5), d ≥ 12.5\n",
    "\n",
    "\n",
    "import math\n",
    "\n",
    "# if we take the integral then we get the formula -e(-20(d-12.5))\n",
    "# we'll calculate the proportion of parts not scrapped (btw 12.5mm and 12.6mm)\n",
    "x1 = -math.exp(-20*(12.5-12.5))\n",
    "x2 = -math.exp(-20*(12.6-12.5))\n",
    "\n",
    "not_scrapped = x2-x1\n",
    "scrapped = (1-not_scrapped)*100\n",
    "print(\"percentage of parts scrapped: \" + str(round(scrapped,2)) + \"%\")\n",
    "\n",
    "# since a disturbance can cause the size of a hole to only increase in size,\n",
    "# the CDF when diameter=11mm will be not existent i.e, = 0\n",
    "\n",
    "# conclusion:\n",
    "\n",
    "# the given pdf tells us that a hole can be of larger in size but not smaller.. \n",
    "# the number of holes of 12.5mm exaclty are very less in number\n",
    "\n",
    "# however if holes greater than 12.6mm are scrapped then we have 86.46% of sheets usuable"
   ]
  },
  {
   "cell_type": "code",
   "execution_count": 169,
   "metadata": {},
   "outputs": [
    {
     "name": "stdout",
     "output_type": "stream",
     "text": [
      "a) \n",
      "i) 0.10383468112130043 \n",
      "ii) 0.19489452125180842\n",
      "iii) 0.914656549178033\n",
      "iv) 0.5386589811336916\n",
      "v) 2.1124545922985606e-06\n",
      "\n",
      "b) z = -1.64\n",
      "c) z = 2.580000000000001\n"
     ]
    }
   ],
   "source": [
    "# 10. \n",
    "# a) compute the following  P(Z > 1.26), . P(Z < −0.86), P(Z > −1.37), P(−1.25 < Z < 0.37), . P(Z ≤ −4.6) \n",
    "\n",
    "def normalProbabilityDensity(x):\n",
    "    constant = 1.0 / np.sqrt(2*np.pi)\n",
    "    return(constant * np.exp((-x**2) / 2.0) )\n",
    "\n",
    "def p_to_z(x):\n",
    "    constant = x* math.sqrt(2*math.pi)\n",
    "    return math.sqrt(2.0*math.log(constant))\n",
    "a1, _ = quad(normalProbabilityDensity, 1.26, np.PINF)\n",
    "a2, _ = quad(normalProbabilityDensity, np.NINF, -0.86)\n",
    "a3, _ = quad(normalProbabilityDensity, -1.37, np.PINF)\n",
    "a4, _ = quad(normalProbabilityDensity, -1.25,0.37)\n",
    "a5, _ = quad(normalProbabilityDensity, np.NINF, -4.6)\n",
    "\n",
    "print(\"a) \\ni) {0} \\nii) {1}\\niii) {2}\\niv) {3}\\nv) {4}\".format(a1,a2,a3,a4,a5),end=\"\\n\\n\")\n",
    "# b) Find the value 𝑧 such that 𝑃(𝑍 > 𝑧) = 0.05\n",
    "\n",
    "for i in np.arange(-1.67,4.3,0.01):\n",
    "    a1, _ = quad(normalProbabilityDensity, i, np.PINF)\n",
    "    if (1-a1)>=0.05:\n",
    "        print(\"b) z = \" + str(i) )\n",
    "        break\n",
    "    \n",
    "# quad(p_to_z, 0,1.26)\n",
    "# c) Find the value of 𝑧 such that 𝑃(−𝑧 < 𝑍 < 𝑧) = 0.99 \n",
    "\n",
    "for i in np.arange(+1.67,4.3,0.01):\n",
    "    a1, _ = quad(normalProbabilityDensity, -i, i)\n",
    "    if (a1)>=0.99:\n",
    "        print(\"c) z = \" + str(i) )\n",
    "        break\n"
   ]
  },
  {
   "cell_type": "code",
   "execution_count": 173,
   "metadata": {},
   "outputs": [
    {
     "name": "stdout",
     "output_type": "stream",
     "text": [
      "a) 0.06680720126885797\n",
      "b) 0.3829249225480261\n",
      "c) z = 2.3300000000000005\n"
     ]
    }
   ],
   "source": [
    "# 11. a copper wire has mean current of 10mA and variance of 4(mA)^2\n",
    "# find P(current>13mA)\n",
    "# find P(9mA<current<11mA)\n",
    "# P(z) = 0.98, find z\n",
    "\n",
    "# a)\n",
    "mean = 10\n",
    "std_d = 2\n",
    "z1 = (13-mean)/std_d\n",
    "a1, _ = quad(normalProbabilityDensity, np.NINF, z1)\n",
    "print(\"a) \" + str(1-a1))\n",
    "\n",
    "# b)\n",
    "z2a = (9-mean)/std_d\n",
    "z2b = (11-mean)/std_d\n",
    "a1, _ = quad(normalProbabilityDensity, np.NINF, z2a)\n",
    "a2, _ = quad(normalProbabilityDensity, z2b, np.PINF)\n",
    "print(\"b) \" + str(1-(a1+a2)))\n",
    "\n",
    "\n",
    "# c)\n",
    "\n",
    "for i in np.arange(+1.67,4.3,0.01):\n",
    "    a1, _ = quad(normalProbabilityDensity, -i, i)\n",
    "    if (a1)>=0.98:\n",
    "        print(\"c) z = \" + str(i) )\n",
    "        break\n"
   ]
  },
  {
   "cell_type": "code",
   "execution_count": 174,
   "metadata": {},
   "outputs": [
    {
     "name": "stdout",
     "output_type": "stream",
     "text": [
      "a) 91.924122831152\n",
      "a) 0.9973002039367398\n"
     ]
    }
   ],
   "source": [
    "# 12. a shaft in a piston has diameter of 0.2508mm and std.dev = 0.0005\n",
    "\n",
    "# a) if we accept a deviation of 0.2500+/-0.0015 what is the percentage of pistons accepted\n",
    "\n",
    "za1 = (0.2485-0.2508)/0.0005\n",
    "za2 = (0.2515-0.2508)/0.0005\n",
    "\n",
    "a1, _ = quad(normalProbabilityDensity, za1, za2)\n",
    "print(\"a) \" + str(a1*100))\n",
    "\n",
    "\n",
    "# b) if the mean is 0.2500 then find the pecentage of accepted \n",
    "\n",
    "zb1 = (0.2485-0.2500)/0.0005\n",
    "zb2 = (0.2515-0.2500)/0.0005\n",
    "\n",
    "a2, _ = quad(normalProbabilityDensity, zb1, zb2)\n",
    "print(\"a) \" + str(a2))"
   ]
  },
  {
   "cell_type": "code",
   "execution_count": null,
   "metadata": {},
   "outputs": [],
   "source": []
  }
 ],
 "metadata": {
  "kernelspec": {
   "display_name": "Python 3",
   "language": "python",
   "name": "python3"
  },
  "language_info": {
   "codemirror_mode": {
    "name": "ipython",
    "version": 3
   },
   "file_extension": ".py",
   "mimetype": "text/x-python",
   "name": "python",
   "nbconvert_exporter": "python",
   "pygments_lexer": "ipython3",
   "version": "3.8.3"
  }
 },
 "nbformat": 4,
 "nbformat_minor": 4
}
