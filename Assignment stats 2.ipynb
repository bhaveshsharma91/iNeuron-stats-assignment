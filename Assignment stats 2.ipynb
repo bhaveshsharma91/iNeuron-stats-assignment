{
 "cells": [
  {
   "cell_type": "markdown",
   "metadata": {},
   "source": [
    "# Stats assignment 2"
   ]
  },
  {
   "cell_type": "code",
   "execution_count": 3,
   "metadata": {},
   "outputs": [],
   "source": [
    "import numpy as np"
   ]
  },
  {
   "cell_type": "markdown",
   "metadata": {},
   "source": [
    "### 1. In each of the following situations, state whether it is a correctly stated hypothesis testing problem and why?"
   ]
  },
  {
   "cell_type": "raw",
   "metadata": {},
   "source": [
    "1. 𝐻0: 𝜇 = 25, 𝐻1: 𝜇 ≠ 25\n",
    "2. 𝐻0: 𝜎 > 10, 𝐻1: 𝜎 = 10\n",
    "3. 𝐻0: 𝑥 = 50, 𝐻1: 𝑥 ≠ 50\n",
    "4. 𝐻0: 𝑝 = 0.1, 𝐻1: 𝑝 = 0.5\n",
    "5. 𝐻0: 𝑠 = 30, 𝐻1: 𝑠 > 30"
   ]
  },
  {
   "cell_type": "markdown",
   "metadata": {},
   "source": [
    "### We know that in hypothesisi testing we have a null hypothesis and an alternate hypothesis...\n",
    "### The alternate hypothesis should be the opposite of alternate hypothesis\n",
    "### The hypothesis test are only for population values\n",
    "\n",
    "1. True condition satisfied\n",
    "2. False 𝐻0: 𝜎 > 10 but 𝐻1: 𝜎 = 10 which is not exact opposite like 𝜎 < 10\n",
    "3. False  condition not satisfied its about sample so...\n",
    "4. False  both seem to be stating different p equals different values... the hypothesis are not opposite to each other\n",
    "5. False  the alternate hypothesis is not opposite to null hypothesis... s=30 so alternate should be s != 30 and they are about samples"
   ]
  },
  {
   "cell_type": "markdown",
   "metadata": {},
   "source": [
    "### 2. The college bookstore tells prospective students that the average cost of its textbooks is Rs. 52 with a standard deviation of Rs. 4.50. A group of smart statistics students thinks that the average cost is higher. To test the bookstore’s claim against their alternative, the students will select a random sample of size 100. Assume that the mean from their random sample is Rs. 52.80. Perform a hypothesis test at the 5% level of significance and state your decision."
   ]
  },
  {
   "cell_type": "raw",
   "metadata": {},
   "source": [
    "h0 : mean = 52\n",
    "h1 : mean > 52\n",
    "\n",
    "alpha = 0.05"
   ]
  },
  {
   "cell_type": "raw",
   "metadata": {},
   "source": [
    "# compute test statistics\n",
    "\n",
    "mew = 52\n",
    "std_dev = 4.50\n",
    "n=100\n",
    "x_bar = 52.8\n",
    "alpha = 0.05\n",
    "\n",
    "z = (x_bar - mew)/std_dev*np.sqrt(n)\n",
    "z"
   ]
  },
  {
   "cell_type": "raw",
   "metadata": {},
   "source": [
    "Z (0.05) = 1.645\n",
    "\n",
    "# z(test)> z(0.05)\n",
    "\n",
    "# clearly z(test lies in the rejection region) \n",
    "# so we conclude that null hypothsis is false and select the alternate hypothesis"
   ]
  },
  {
   "cell_type": "markdown",
   "metadata": {},
   "source": [
    "### 3. A certain chemical pollutant in the Genesee River has been constant for several years with mean μ = 34 ppm (parts per million) and standard deviation σ = 8 ppm. A group of factory representatives whose companies discharge liquids into the river is now claiming that they have lowered the average with improved filtration devices. A group of environmentalists will test to see if this is true at the 1% level of significance. Assume \\ that their sample of size 50 gives a mean of 32.5 ppm. Perform a hypothesis test at the 1% level of significance and state your decision."
   ]
  },
  {
   "cell_type": "raw",
   "metadata": {},
   "source": [
    "h0: mean = 34ppm\n",
    "h1: mean < 34ppm"
   ]
  },
  {
   "cell_type": "code",
   "execution_count": 7,
   "metadata": {},
   "outputs": [
    {
     "data": {
      "text/plain": [
       "-1.3258252147247767"
      ]
     },
     "execution_count": 7,
     "metadata": {},
     "output_type": "execute_result"
    }
   ],
   "source": [
    "mew = 34\n",
    "std_dev = 8\n",
    "n = 50\n",
    "x_bar = 32.5\n",
    "alpha = 0.01\n",
    "\n",
    "z = (x_bar - mew)/std_dev*np.sqrt(n)\n",
    "z"
   ]
  },
  {
   "cell_type": "raw",
   "metadata": {},
   "source": [
    "Z (0.01%) = -2.33 (since it is left tailed test).\n",
    "\n",
    "# z(test) > z(0.01)\n",
    "\n",
    "# clearly z(test does not lies in the rejection region) \n",
    "# so we conclude that null hypothsis is true..."
   ]
  },
  {
   "cell_type": "markdown",
   "metadata": {},
   "source": [
    "### 4.Based on population figures and other general information on the U.S. population, suppose it has been estimated that, on average, a family of four in the U.S. spends about 1135 dollars annually on dental expenditures. Suppose further that a regional dental association wants to test to determine if this figure is accurate for their area of country. To test this, 22 families of 4 are randomly selected from the population in that area of the country and a log is kept of the family’s dental expenditure for one year. The resulting data are given below. Assuming, that dental expenditure is normally distributed in the population, use the data and an alpha of 0.5 to test the dental association’s hypothesis.\n"
   ]
  },
  {
   "cell_type": "raw",
   "metadata": {},
   "source": [
    "h0 : mew = 1135\n",
    "h1 : mew != 1135"
   ]
  },
  {
   "cell_type": "code",
   "execution_count": 13,
   "metadata": {},
   "outputs": [
    {
     "name": "stdout",
     "output_type": "stream",
     "text": [
      "1031.3181818181818\n",
      "234.84799462314425\n"
     ]
    }
   ],
   "source": [
    "mew = 1135\n",
    "n=22\n",
    "alpha = 0.5\n",
    "\n",
    "data = [1008, 812, 1117, 1323, 1308, 1415, 831, 1021, 1287, 851, 930, 730, 699,\n",
    "872, 913, 944, 954, 987, 1695, 995, 1003, 994]\n",
    "\n",
    "x_mean = np.mean(data)\n",
    "print(x_mean)\n",
    "std_dev = np.std(data)\n",
    "print(std_dev)"
   ]
  },
  {
   "cell_type": "code",
   "execution_count": 12,
   "metadata": {},
   "outputs": [
    {
     "name": "stdout",
     "output_type": "stream",
     "text": [
      "-2.070747228595759\n"
     ]
    }
   ],
   "source": [
    "std_err = std_dev/np.sqrt(n)\n",
    "\n",
    "t_score = (x_mean - mew)/std_err\n",
    "print(t_score)"
   ]
  },
  {
   "cell_type": "raw",
   "metadata": {},
   "source": [
    "# t value for significance level 50% and degree of freedom 22-1 = 21\n",
    "# t_0.25 = 0.686\n",
    "# t_-0.25 = -0.686\n",
    "\n",
    "as we can see... \n",
    "t_-0.25 > t_score < t_0.25\n",
    "\n",
    "our t score lies in the rejection region...\n",
    "\n",
    "we reject our null hypothesis\n",
    "\n",
    "therefore, mew != 1135"
   ]
  },
  {
   "cell_type": "markdown",
   "metadata": {},
   "source": [
    "### 5.In a report prepared by the Economic Research Department of a major bank the Department manager maintains that the average annual family income on Metropolis is 48,432 dollars. What do you conclude about the validity of the report if a random sample of 400 families shows and average income of 48,574 dollars with a standard deviation of 2000?"
   ]
  },
  {
   "cell_type": "raw",
   "metadata": {},
   "source": [
    "### we will move ahead with z test as sample size is > 30, unknown distribution and we dont have std_dev of population"
   ]
  },
  {
   "cell_type": "raw",
   "metadata": {},
   "source": [
    "h0 : mew = 48432\n",
    "h1 : mew != 48574"
   ]
  },
  {
   "cell_type": "code",
   "execution_count": 18,
   "metadata": {},
   "outputs": [
    {
     "data": {
      "text/plain": [
       "1.42"
      ]
     },
     "execution_count": 18,
     "metadata": {},
     "output_type": "execute_result"
    }
   ],
   "source": [
    "# compute z test statistics at 0.1 percent significance\n",
    "\n",
    "mew = 48432\n",
    "std_dev = 2000\n",
    "n=400\n",
    "x_bar = 48574\n",
    "alpha = 0.01\n",
    "\n",
    "z = (x_bar - mew)/std_dev*np.sqrt(n)\n",
    "z"
   ]
  },
  {
   "cell_type": "raw",
   "metadata": {},
   "source": [
    "Z (0.01) = 2.33 (since it is 2 tailed test).\n",
    "Z (-0.01) = -2.33\n",
    "\n",
    "# Z(-0.01) < Z < Z(0.01)\n",
    "\n",
    "# clearly z(test does not lies in the rejection region) \n",
    "# so we conclude that null hypothsis is True"
   ]
  },
  {
   "cell_type": "markdown",
   "metadata": {},
   "source": [
    "### 6.  Suppose that in past years the average price per square foot for warehouses in the United States has been 32.28 dollars. A national real estate investor wants to determine whether that figure has changed now. The investor hires a researcher who randomly samples 19 warehouses that are for sale across the United States and finds that the mean price per square foot is 31.67 dollars, with a standard deviation of 1.29 dollars. assume that the prices of warehouse footage are normally distributed in population. If the researcher uses a 5% level of significance, what statistical conclusion can be reached? What are the hypotheses?"
   ]
  },
  {
   "cell_type": "code",
   "execution_count": 23,
   "metadata": {},
   "outputs": [],
   "source": [
    "h0 : mew = 32.28\n",
    "h1 : mew != 32.28"
   ]
  },
  {
   "cell_type": "code",
   "execution_count": 24,
   "metadata": {},
   "outputs": [],
   "source": [
    "mew = 32.28\n",
    "n=19\n",
    "alpha = 0.05\n",
    "\n",
    "x_mean = 31.67\n",
    "std_dev = 1.29"
   ]
  },
  {
   "cell_type": "code",
   "execution_count": 25,
   "metadata": {},
   "outputs": [
    {
     "name": "stdout",
     "output_type": "stream",
     "text": [
      "-2.06118477175179\n"
     ]
    }
   ],
   "source": [
    "std_err = std_dev/np.sqrt(n)\n",
    "\n",
    "t_score = (x_mean - mew)/std_err\n",
    "print(t_score)"
   ]
  },
  {
   "cell_type": "raw",
   "metadata": {},
   "source": [
    "# t value for significance level 50% and degree of freedom 22-1 = 21\n",
    "# t_0.025 = 2.101\n",
    "# t_-0.025 = -2.101\n",
    "\n",
    "as we can see... \n",
    "t_-0.025 < t_score < t_0.025\n",
    "\n",
    "our t score does not lies in the rejection region... but it misses the rejection region by small proportion...\n",
    "we might have to send that researcher for another round... :>\n",
    "or just notice that it might be slightly changed\n",
    "\n",
    "we reject our alternate hypothesis"
   ]
  },
  {
   "cell_type": "markdown",
   "metadata": {},
   "source": [
    "### 7. Fill in the blank spaces in the table and draw your conclusions from it."
   ]
  },
  {
   "cell_type": "markdown",
   "metadata": {},
   "source": [
    "| acceptance region | sample size | alpha | beta & mew = 52 | beta & mew = 50.5 |\n",
    "|--- | --- |--- | --- |--- | \n",
    "| 48.5 < x_mean < 51.5 | 10 |  | |\n",
    "| 48 < x_mean < 52 | 10 |  | |\n",
    "| 48.81 < x_mean < 51.9 | 16 |  | |\n",
    "| 48.42 < x_mean < 51.58 | 16 |  | |\n",
    "\n"
   ]
  },
  {
   "cell_type": "markdown",
   "metadata": {},
   "source": [
    "### 8.  Find the t-score for a sample size of 16 taken from a population with mean 10 whenthe sample mean is 12 and the sample standard deviation is 1.5."
   ]
  },
  {
   "cell_type": "code",
   "execution_count": 27,
   "metadata": {},
   "outputs": [
    {
     "name": "stdout",
     "output_type": "stream",
     "text": [
      "5.333333333333333\n"
     ]
    }
   ],
   "source": [
    "mew =  10\n",
    "n=16\n",
    "\n",
    "x_mean = 12\n",
    "std_dev = 1.5\n",
    "\n",
    "std_err = std_dev/np.sqrt(n)\n",
    "\n",
    "t_score = (x_mean - mew)/std_err\n",
    "print(t_score)"
   ]
  },
  {
   "cell_type": "markdown",
   "metadata": {},
   "source": [
    "### 9. Find the t-score below which we can expect 99% of sample means will fall if samples of size 16 are taken from a normally distributed population"
   ]
  },
  {
   "cell_type": "raw",
   "metadata": {},
   "source": [
    "t_score = 2.947\n",
    "\n",
    "i.e, \n",
    "at degrees of freedom = 15\n",
    "2 tail confidence interval = 0.99"
   ]
  },
  {
   "cell_type": "markdown",
   "metadata": {},
   "source": [
    "### 10. If a random sample of size 25 drawn from a normal population gives a mean of 60 and a standard deviation of 4, find the range of t-scores where we can expect to find the middle 95% of all sample means."
   ]
  },
  {
   "cell_type": "raw",
   "metadata": {},
   "source": [
    "From t table we get\n",
    "\n",
    "['12.71',\n",
    " '4.303',\n",
    " '3.182',\n",
    " '2.776',\n",
    " '2.571',\n",
    " '2.447',\n",
    " '2.365',\n",
    " '2.306',\n",
    " '2.262',\n",
    " '2.228',\n",
    " '2.201',\n",
    " '2.179',\n",
    " '2.160',\n",
    " '2.145',\n",
    " '2.131',\n",
    " '2.120',\n",
    " '2.110',\n",
    " '2.101',\n",
    " '2.093',\n",
    " '2.086',\n",
    " '2.080',\n",
    " '2.074',\n",
    " '2.069',\n",
    " '2.064',\n",
    " '2.060',\n",
    " '2.056',\n",
    " '2.052',\n",
    " '2.048',\n",
    " '2.045',\n",
    " '2.042',\n",
    " '2.021',\n",
    " '2.000',\n",
    " '1.990',\n",
    " '1.984',\n",
    " '1.962',\n",
    " '1.960']"
   ]
  },
  {
   "cell_type": "raw",
   "metadata": {},
   "source": [
    "mew =  ?\n",
    "n=16\n",
    "\n",
    "x_mean = 12\n",
    "std_dev = 1.5\n",
    "\n",
    "std_err = std_dev/np.sqrt(n)\n",
    "\n",
    "t_score = (x_mean - mew)/std_err\n",
    "print(t_score)"
   ]
  },
  {
   "cell_type": "markdown",
   "metadata": {},
   "source": [
    "### 11. Two-tailed test for difference between two population means Is there evidence to conclude that the number of people travelling from Bangalore to Chennai is different from the number of people travelling from Bangalore to Hosur in a week, given the following:"
   ]
  },
  {
   "cell_type": "code",
   "execution_count": 60,
   "metadata": {},
   "outputs": [
    {
     "data": {
      "text/plain": [
       "-7.926428526759299"
      ]
     },
     "execution_count": 60,
     "metadata": {},
     "output_type": "execute_result"
    }
   ],
   "source": [
    "# H0: there is no difference\n",
    "# H1 : there is a difference\n",
    "\n",
    "# Population 1: Bangalore to Chennai \n",
    "n1 = 1200\n",
    "X1 = 452\n",
    "S1 = 212\n",
    "# Population 2: Bangalore to Hosur \n",
    "n2 = 800\n",
    "X2 = 523\n",
    "S2 = 185\n",
    "\n",
    "# n1 = 1000  \n",
    "# n2 = 2000\n",
    "# X1 = 76.5\n",
    "# X2= 77\n",
    "# S1=S2= 7\n",
    "\n",
    "\n",
    "df =  n1 + n2 -2\n",
    "SE = np.sqrt(((np.power(S1,2)/n1) + (np.power(S2,2)/n2)))\n",
    "# var = (∑[X-X(mean)]^2 + ∑[Y-Y(mean)]^2))/(n1 + n2 -2)\n",
    "\n",
    "\n",
    "Z_test = (X1- X2)/ SE\n",
    "Z_test"
   ]
  },
  {
   "cell_type": "code",
   "execution_count": null,
   "metadata": {},
   "outputs": [],
   "source": []
  },
  {
   "cell_type": "markdown",
   "metadata": {},
   "source": [
    "Since this is for 2 tail and we take confidence interval of 95%, we get...\n",
    "\n",
    "Z(2.5%) = 1.96  and Z(-2.5%) = -1.96\n",
    "\n",
    "Z(-2.5) > Z_test < Z(2.5)\n",
    "\n",
    "The z score lies in the rejection region so, we reject the null hypothesis"
   ]
  },
  {
   "cell_type": "markdown",
   "metadata": {},
   "source": [
    "### 12. Is there evidence to conclude that the number of people preferring Duracell battery is different from the number of people preferring Energizer battery, given the following:"
   ]
  },
  {
   "cell_type": "code",
   "execution_count": 59,
   "metadata": {},
   "outputs": [
    {
     "data": {
      "text/plain": [
       "5.025702668336442"
      ]
     },
     "execution_count": 59,
     "metadata": {},
     "output_type": "execute_result"
    }
   ],
   "source": [
    "# H0: there is no difference\n",
    "# H1 : there is a difference\n",
    "\n",
    "# Population 1: Duracell\n",
    "n1 = 100\n",
    "X1 = 308\n",
    "S1 = 84\n",
    "# Population 2: Energizer\n",
    "n2 = 100\n",
    "X2 = 254\n",
    "S2 = 67\n",
    "\n",
    "SE = np.sqrt(((np.power(S1,2)/n1) + (np.power(S2,2)/n2)))\n",
    "Z_test = (X1- X2)/ SE\n",
    "Z_test"
   ]
  },
  {
   "cell_type": "markdown",
   "metadata": {},
   "source": [
    "Since this is for 2 tail and we take confidence interval of 95%, we get...\n",
    "\n",
    "Z(2.5%) = 1.96  and Z(-2.5%) = -1.96\n",
    "\n",
    "Z(-2.5) < Z_test > Z(2.5)\n",
    "\n",
    "The z score lies in the rejection region so, we reject the null hypothesis"
   ]
  },
  {
   "cell_type": "markdown",
   "metadata": {},
   "source": [
    "### 13. Pooled estimate of the population variance Does the data provide sufficient evidence to conclude that average percentage increase in the price of sugar differs when it is sold at two different prices?"
   ]
  },
  {
   "cell_type": "code",
   "execution_count": 63,
   "metadata": {},
   "outputs": [
    {
     "data": {
      "text/plain": [
       "2.1965113720074068"
      ]
     },
     "execution_count": 63,
     "metadata": {},
     "output_type": "execute_result"
    }
   ],
   "source": [
    "# Population 1: Price of sugar = Rs. 27.50 \n",
    "n1 = 14\n",
    "X1 = 0.317 \n",
    "S1 = 0.12\n",
    "# Population 2: Price of sugar = Rs. 20.00 \n",
    "n2 = 9\n",
    "X2 = 0.21\n",
    "S2 = 0.11\n",
    "\n",
    "SE = np.sqrt(((np.power(S1,2)/n1) + (np.power(S2,2)/n2)))\n",
    "Z_test = (X1- X2)/ SE\n",
    "Z_test"
   ]
  },
  {
   "cell_type": "markdown",
   "metadata": {},
   "source": [
    "Since this is for 2 tail and we take confidence interval of 95%, we get...\n",
    "\n",
    "Z(2.5%) = 1.96  and Z(-2.5%) = -1.96\n",
    "\n",
    "Z(-2.5) < Z_test > Z(2.5)\n",
    "\n",
    "The z score lies in the rejection region so, we reject the null hypothesis"
   ]
  },
  {
   "cell_type": "markdown",
   "metadata": {},
   "source": [
    "### 14. The manufacturers of compact disk players want to test whether a small price reduction is enough to increase sales of their product. Is there evidence that the small price reduction is enough to increase sales of compact disk players?"
   ]
  },
  {
   "cell_type": "code",
   "execution_count": 66,
   "metadata": {},
   "outputs": [
    {
     "data": {
      "text/plain": [
       "-0.9341299576730813"
      ]
     },
     "execution_count": 66,
     "metadata": {},
     "output_type": "execute_result"
    }
   ],
   "source": [
    "# H0: the sales are not affected\n",
    "# H1: The sales are increasing\n",
    "    \n",
    "# Population 1: Before reduction\n",
    "n1 = 15\n",
    "X1 = 6598 \n",
    "S1 = 844\n",
    "# Population 2: After reduction \n",
    "n2 = 12\n",
    "X2 = 6870\n",
    "S2 = 669\n",
    "\n",
    "SE = np.sqrt(((np.power(S1,2)/n1) + (np.power(S2,2)/n2)))\n",
    "Z_test = (X1- X2)/ SE\n",
    "Z_test"
   ]
  },
  {
   "cell_type": "markdown",
   "metadata": {},
   "source": [
    "Since this is for right tail and we take confidence interval of 95%, we get...\n",
    "\n",
    "Z(2.5%) = 1.96  and Z(-2.5%) = -1.96\n",
    "\n",
    "Z(-2.5) < Z_test > Z(2.5)\n",
    "\n",
    "The z score lies in the rejection region so, we reject the null hypothesis"
   ]
  },
  {
   "cell_type": "markdown",
   "metadata": {},
   "source": [
    "### 15. Comparisons of two population proportions when the hypothesized difference is zero  Carry out a two-tailed test of the equality of banks’ share of the car loan market in 1980 and 1995."
   ]
  },
  {
   "cell_type": "markdown",
   "metadata": {},
   "source": [
    "#H0: the shares in car loan market hasn't changed\n",
    "#H1: the shares in car loan market hasn changed\n",
    "\n",
    "#Population 1: 1980\n",
    "n1 = 1000\n",
    "X1 = 53\n",
    "S1 = 0.53\n",
    "#Population 2: 1985\n",
    "n2 = 100\n",
    "X2 = 43\n",
    "S2= 0.53\n",
    "\n",
    "df = n1 + n2 -2 = 1098\n",
    "\n",
    "for 2 tailed t test with df = 1098 and 0.1% significance we get T-Value (two-tailed): +/- 2.580314\n",
    "\n",
    "our p value is greater then our t value so we accept our null hypothesis"
   ]
  },
  {
   "cell_type": "markdown",
   "metadata": {},
   "source": [
    "### 16. Carry out a one-tailed test to determine whether the population proportion of traveler’s check buyers who buy at least 2500 dollars in checks when sweepstakes prizes are offered as at least 10% higher than the proportion of such buyers when no sweepstakes are on.\n"
   ]
  },
  {
   "cell_type": "raw",
   "metadata": {},
   "source": [
    "# H0: no change in proportion\n",
    "# H1: change in proportion\n",
    "\n",
    "# Population 1: With sweepstakes\n",
    "n1 = 300\n",
    "x1 = 120\n",
    "𝑝1 = 0.40\n",
    "# Population 2: No sweepstakes \n",
    "n2 = 700\n",
    "x2 = 140\n",
    "𝑝2= 0.20\n",
    "\n",
    "df = n1 + n2 -2 = 300 + 700 -2 = 998\n",
    "\n",
    "T-Value (right-tailed) with df = 998 and 1 percent significance : 2.33009\n",
    "    \n",
    "our p value for population 1 is greater then our t value\n",
    "\n",
    "so their is no change\n",
    "\n",
    "our p value for population 2 is lesser then our t value\n",
    "\n",
    "their is change"
   ]
  },
  {
   "cell_type": "markdown",
   "metadata": {},
   "source": [
    "### 17. A die is thrown 132 times with the following results: "
   ]
  },
  {
   "cell_type": "code",
   "execution_count": 77,
   "metadata": {},
   "outputs": [],
   "source": [
    "Number_turned_up = np.array([1, 2, 3, 4, 5, 6])\n",
    "Frequency = np.array([16, 20, 25, 14, 29, 28])\n",
    "# Is the die unbiased? Consider the degrees of freedom as 𝑝 − 1"
   ]
  },
  {
   "cell_type": "code",
   "execution_count": 90,
   "metadata": {},
   "outputs": [
    {
     "name": "stdout",
     "output_type": "stream",
     "text": [
      "94.13636363636364\n",
      "11.0705\n"
     ]
    }
   ],
   "source": [
    "# (H0): The die is unbiased\n",
    "# (HA): The die is not unbiased.\n",
    "    \n",
    "    \n",
    "# we will perform a chi-squared test\n",
    "    \n",
    "# On the hypothesis that the die is unbiased we should expect the frequency of each number to be \n",
    "\n",
    "E = 132/6 # = 22\n",
    "n=6\n",
    "X = np.sum(np.square(Number_turned_up - E))/E\n",
    "print(X)\n",
    "\n",
    "alpha = 0.05\n",
    "\n",
    "df = 5   # n-1\n",
    "\n",
    "critical_value = 11.0705\n",
    "print(critical_value)\n",
    "\n",
    "# Since X > critical_value\n",
    "\n",
    "\n",
    "# HO is rejected.\n",
    "# H1 is accepted"
   ]
  },
  {
   "cell_type": "markdown",
   "metadata": {},
   "source": [
    "### 18. In a certain town, there are about one million eligible voters. A simple random sample of 10,000 eligible voters was chosen to study the relationship between gender and participation in the last election. The results are summarized in the following 2X2 (read two by two) contingency table:"
   ]
  },
  {
   "cell_type": "markdown",
   "metadata": {},
   "source": [
    "|   | Men | Women |\n",
    "|---|---|---|\n",
    "|voted |2792 | 3591|\n",
    "|notvoted |1486 |2131 |"
   ]
  },
  {
   "cell_type": "markdown",
   "metadata": {},
   "source": [
    "### We would want to check whether being a man or a woman (columns) is independent ofhaving voted in the last election (rows). In other words, is “gender and voting independent”?\n"
   ]
  },
  {
   "cell_type": "markdown",
   "metadata": {},
   "source": [
    "#H0: sex is independent of voting\n",
    "#H1: sex is depedent of voting\n",
    "    \n",
    "    \n",
    "we will perform hi squared test.. for which we need the observed table with totals and expected table\n",
    "\n",
    "\n",
    "OBSERVED TABLE\n",
    "\n",
    "||Men|Women|Total|\n",
    "|---|---|---|---|\n",
    "|Voted|2792|3591  |6383|\n",
    "|Didn't vote|1486|2131  |3617|\n",
    "Total|4278|5722  |10000|\n",
    "\n",
    "chance of (row_i,col_j) = (chance row_i) * (chance col_j)\n",
    "\n",
    " (row_i,col_j) = N*(chance row_i)*(chance col_j) = (Sum row_i)*(Sum col_j) / N\n",
    "\n",
    "EXPECTED TABLE\n",
    "\t\t  \n",
    "||Men|Women |Total|\n",
    "|---|---|---|---|\n",
    "|Voted\t\t|2731\t|3652  |\t6383|\n",
    "|Didn't vote|\t1547|\t2070  |\t3617|\n",
    "Total\t|\t4278\t|5722  |\t10000"
   ]
  },
  {
   "cell_type": "code",
   "execution_count": 94,
   "metadata": {},
   "outputs": [
    {
     "name": "stdout",
     "output_type": "stream",
     "text": [
      "chi value\n",
      "6.584283456757529\n"
     ]
    }
   ],
   "source": [
    "c11 = (2792-2731)**2/2731\n",
    "c12 = (3591-3652)**2/3652\n",
    "c21 = (1486-1547)**2/1547\n",
    "c22 = (2131-2070)**2/2070\n",
    "\n",
    "X = c11 + c12 + c21 + c22\n",
    "print(\"chi value\")\n",
    "print(X)"
   ]
  },
  {
   "cell_type": "markdown",
   "metadata": {},
   "source": [
    "#Now we compute the P-value. \n",
    "#This is done by looking under the Chi-square table with (rows-1)*(cols-1) degrees of freedom. \n",
    "#In the case of a 2x2 table (our case) the number of degrees of freedom is (2-1)(2-1)=1*1=1. \n",
    "#The table gives the tail areas at:\n",
    "    \n",
    "|Degrees of freedom|99%|10%|5%|1%|\n",
    "|---|---|---|---|---|\n",
    "|1|0.00016|2.71|3.84|6.64|\n",
    "|2 |0.020|4.60|5.99|9.21|\n",
    "\n",
    "Since the observed X2 = 6.58 and thus,\n",
    "3.84 < X2 < 6.64\n",
    "we conclude that:\n",
    "1% < P-value < 5%\n",
    "and we reject the NULL. The data supports the hypothesis that sex and voting are dependent in this town."
   ]
  },
  {
   "cell_type": "markdown",
   "metadata": {},
   "source": [
    "### 19. A sample of 100 voters are asked which of four candidates they would vote for in an election. The number supporting each candidate is given below:"
   ]
  },
  {
   "cell_type": "markdown",
   "metadata": {},
   "source": [
    "|higgins | reardon |white |charlton|\n",
    "|---|---|---|---|\n",
    "|41 |19 | 24 | 16 |"
   ]
  },
  {
   "cell_type": "markdown",
   "metadata": {},
   "source": [
    "### Do the data suggest that all candidates are equally popular? [Chi-Square = 14.96, with 3 df, 𝑝 0.05 ."
   ]
  },
  {
   "cell_type": "markdown",
   "metadata": {},
   "source": [
    " A Chi-Squared Goodness-of-Fit test is appropriate here. The null hypothesis is that there is no preference for any of the candidates: if this is so, we would expect roughly equal numbers of voters to support each candidate. Our expected frequencies are therefore 100/4 = 25 per candidate.\n",
    "\n",
    "|O |41| 19| 24| 16| \n",
    "|---|---|---|---|---|\n",
    "|E |25 |25 |25 |25 |\n",
    "|(O-E) |16 |-6 |-1| -9 |\n",
    "|(O-E)squared |256| 36 |1| 81| \n",
    "|(O-E)squared/E| 10.24 |1.44 |0.04 |3.24|\n",
    "\n",
    "Adding together the last row gives us our value of X  :\n",
    "\n",
    "X = 10.24+ 1.44 + 0.04 + 3.24 = 3.24 with 3 degrees of freedom\n",
    "\n",
    "The critical value of Chi-Square for a 0.05 significance level and 3 d.f. is 7.82. Our obtained Chi-Square value is bigger than this, and so we conclude that our obtained value is unlikely to have occurred merely by chance. In fact, our obtained value is bigger than the critical Chi-Square value for the 0.01 significance level (13.28). In other words, it is possible that our obtained Chi-Square value is due merely to chance, but highly unlikely: a Chi-Square value as large as ours will occur by chance only about once in a hundred trials. It seems more reasonable to conclude that our results are not de to chance, and that the data do indeed suggest that voters do not prefer the four candidates equally.\n",
    "\n",
    " "
   ]
  },
  {
   "cell_type": "markdown",
   "metadata": {},
   "source": [
    "### 20. Children of three ages are asked to indicate their preference for three photographs of adults. Do the data suggest that there is a significant relationship between age and photograph preference? What is wrong with this study? [Chi-Square = 29.6, with 4 df: 𝑝 < 0.05]."
   ]
  },
  {
   "cell_type": "markdown",
   "metadata": {},
   "source": [
    "(a) Work out the row, column and grand totals (as shown in the shaded parts of the table, above).\n",
    "(b) Work out the expected frequencies, using the formula:\n",
    "\n",
    "|O| 18|22|20|2|28|40|20|10|40|\n",
    "|---|---|---|---|---|---|---|---|---|---|\n",
    "|E| 12|18|30|14|21|35|14|21|35|\n",
    "|(O-E)| 6|4|-10|-12|7|5|6|11|5|\n",
    "|(O-E)squared |36|16|100|144|49|25|36|121|25|\n",
    "|(O-E)squared/E |3|0.89|3.33|10.29|2.33|0.71|2.57|5.76|0.71|\n",
    " \n",
    "    \n",
    "chi-squared is the sum of these:\n",
    "\n",
    "c2 = 29.60.\n",
    "\n",
    "d.f. = (rows - 1) * (columns - 1) = 2 * 2 = 4.\n",
    "\n",
    " \n",
    "The critical value of Chi-Square in the table for a 0.001 significance level and 4 d.f. is 18.46. Our obtained Chi-Square value is bigger than this: therefore we have a Chi-Square value which is so large that it would occur by chance only about once in a thousand times. It seems more reasonable to accept the alternative hypothesis, that there is a significant relationship between age of child and photograph preference."
   ]
  },
  {
   "cell_type": "markdown",
   "metadata": {},
   "source": [
    "### 21. A study of conformity using the Asch paradigm involved two conditions: one where one confederate supported the true judgement and another where no confederate gave the correct response. Is there a significant difference between the \"support\" and \"no support\" conditions in the frequency with which individuals are likely to conform? [Chi-Square = 19.87, with 1 df: 𝑝 < 0.05]."
   ]
  },
  {
   "cell_type": "markdown",
   "metadata": {},
   "source": [
    " Here we have a 2x2 contingency table. Chi-Square is the appropriate test to use, but since we have 1 d.f., we will modify the formula to include \"Yates' correction for continuity\".\n",
    "\n",
    "||support| no support | row totals |\n",
    "|---|---|---|---|\n",
    "|conform| 18|40|58|\n",
    "|not conform| 32|10|42|\n",
    "|column total| 50|50|100|\n",
    "    \n",
    "(a) Calculate the row, column and grand totals.\n",
    "\n",
    "(b) Calculate the expected frequency for each cell of the table, by multiplying together the appropriate row and column totals and then dividing by the grand total.\n",
    "\n",
    "(c) Subtract each expected frequency from its associated observed frequency; but then apply Yates' correction, by subtracting 0.5 from the absolute value of each O-E value. (The vertical bars in the formula mean \"ignore any minus signs\").\n",
    "\n",
    "     \n",
    "|O| 18|40|32|10|\n",
    "|---|---|---|---|---|\n",
    "|E| 29|29|21|21|\n",
    "|(O-E 0.5)| 10.5| 10.5| 10.5| 10.5|\n",
    "|(O-E 0.5)squared |110.25|110.25|110.25|110.25|\n",
    "|(O-E)squared/E |3.80|3.80|5.25|5.25|\n",
    "\n",
    "Chi-squared is the sum of these:\n",
    "\n",
    "X2 = 18.10.\n",
    "\n",
    "d.f. = (rows - 1) * (columns - 1) = 1 * 1 = 1.\n",
    "\n",
    "Our obtained value of Chi-Squared is bigger than the critical value of Chi-Squared for a 0.001 significance level. In other words, there is less than a one in a thousand chance of obtaining a Chi-Square value as big as our obtained one, merely by chance. Therefore we can conclude that there is a significant difference between the \"support\" and \"no support\" conditions, in terms of the frequency with which individuals conformed."
   ]
  },
  {
   "cell_type": "markdown",
   "metadata": {},
   "source": [
    "### 22. We want to test whether short people differ with respect to their leadership qualities (Genghis Khan, Adolf Hitler and Napoleon were all stature-deprived, and how many midget MP's are there?) The following table shows the frequencies with which 43 short people and 52 tall people were categorized as \"leaders\", \"followers\" or as \"unclassifiable\". Is there a relationship between height and leadership qualities? [Chi-Square = 10.71, with 2 df: 𝑝 < 0.01]."
   ]
  },
  {
   "cell_type": "markdown",
   "metadata": {},
   "source": [
    " Expected frequencies are in brackets:\n",
    " \n",
    "||short|tail|row totals|\n",
    "|---|---|---|---|\n",
    "|leader| 12(19.92) | 32(24.08) | 44 |\n",
    "|follower| 22(16.29) | 14(19.71) | 36 |\n",
    "|unclassifiable | 9(6.79) | 6(8.21) | 15 |\n",
    "|column totals| 43|52|95|\n",
    "        \n",
    " Chi-Square  = 3.146 + 2.602 + 1.998 + 1.652 + 0.720 + 0.595 = 10.712, with 2 d.f.\n",
    "10.712 is bigger than the tabulated value of Chi-Square at the 0.01 significance level. We would conclude that there seems to be a relationship between height and leadership qualities. Note that we can only say that there is a relationship between our two variables, not that once causes the other. There could be all kinds of explanations for such a relationship."
   ]
  },
  {
   "cell_type": "markdown",
   "metadata": {},
   "source": [
    "### 23. Each respondent in the Current Population Survey of March 1993 was classified as employed, unemployed, or outside the labor force. The results for men in California age 35- 44 can be cross-tabulated by marital status, as follows: Men of different marital status seem to have different distributions of labor force status. Or is this just chance variation? (you may assume the table results from a simple random sample.)"
   ]
  },
  {
   "cell_type": "markdown",
   "metadata": {},
   "source": [
    "H0: Rows and columns are independent.\n",
    "\n",
    "H1: There is a relationship between rows and columns.\n",
    "       (Significance Level = 0.05)\n",
    "\n",
    "\n",
    "  Row   |     Col 1     Col 2     Col 3 |       Sum\n",
    "  \n",
    "  ------+------------------------+----------\n",
    "  \n",
    "  Obs 1 |       679       103       114 |    896.00\n",
    "  \n",
    "  Exp 1 |    654.06    109.29    132.65 |    896.00\n",
    "  \n",
    "     +------------------------+   \n",
    "        \n",
    "  Obs 2 |        63        10        20 |     93.00\n",
    "  \n",
    "  Exp 2 |     67.89     11.34     13.77 |     93.00\n",
    "  \n",
    "     +-------------------------+        \n",
    "        \n",
    "  Obs 3 |        42        18        25 |     85.00\n",
    "  \n",
    "  Exp 3 |     62.05     10.37     12.58 |     85.00\n",
    "  \n",
    "  ------+-------------------------+----------\n",
    "  \n",
    "  Sum   |    784.00    131.00    159.00 |   1074.00\n",
    "\n",
    "\n",
    "  ChiSq = \n",
    "     (679 - 654.063315)^2 / 654.063315 + \n",
    "     (103 - 109.288641)^2 / 109.288641 + \n",
    "     (114 - 132.648045)^2 / 132.648045 + \n",
    "     (63 - 67.888268)^2 / 67.888268 + \n",
    "     (10 - 11.343575)^2 / 11.343575 + \n",
    "     (20 - 13.768156)^2 / 13.768156 + \n",
    "     (42 - 62.048417)^2 / 62.048417 + \n",
    "     (18 - 10.367784)^2 / 10.367784 + \n",
    "     (25 - 12.583799)^2 / 12.583799\n",
    "    = 31.613103\n",
    "\n",
    "    Degree of Freedom = (3 - 1)(3 - 1) = 4\n",
    "    Critical Value: ChiSq(0.05, 4) = 9.487729\n",
    "\n",
    "    ChiSq = 31.613103\n",
    "\n",
    "    P(>ChiSq) = 2.295E-006 < 0.05\n",
    "\n",
    "    Reject the null hypothesis at the 0.05 significance level.\n",
    "    There is a relationship between rows and columns.\n",
    "    "
   ]
  },
  {
   "cell_type": "markdown",
   "metadata": {},
   "source": []
  }
 ],
 "metadata": {
  "kernelspec": {
   "display_name": "Python 3",
   "language": "python",
   "name": "python3"
  },
  "language_info": {
   "codemirror_mode": {
    "name": "ipython",
    "version": 3
   },
   "file_extension": ".py",
   "mimetype": "text/x-python",
   "name": "python",
   "nbconvert_exporter": "python",
   "pygments_lexer": "ipython3",
   "version": "3.8.3"
  }
 },
 "nbformat": 4,
 "nbformat_minor": 4
}
